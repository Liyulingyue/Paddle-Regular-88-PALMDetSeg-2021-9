{
 "cells": [
  {
   "cell_type": "markdown",
   "metadata": {
    "collapsed": false
   },
   "source": [
    "# 常规赛：PALM病理性近视病灶检测与分割\n",
    "\n",
    "## 问题分析\n",
    "\n",
    "一个二分割任务，只是同样的数据要做两种不同的分割模型。本程序使用PaddleSeg进行分割。\n",
    "\n",
    "### 特别注意\n",
    "\n",
    "Paddleseg中训练时以255作为忽略像素点\n",
    "\n",
    "## 数据准备"
   ]
  },
  {
   "cell_type": "code",
   "execution_count": null,
   "metadata": {
    "collapsed": false
   },
   "outputs": [],
   "source": [
    "# 下载数据与解压数据\r\n",
    "import os\r\n",
    "import urllib\r\n",
    "\r\n",
    "url='https://bj.bcebos.com/v1/dataset-bj/%E5%8C%BB%E7%96%97%E6%AF%94%E8%B5%9B/%E5%B8%B8%E8%A7%84%E8%B5%9B%EF%BC%9APALM%E7%97%85%E7%90%86%E6%80%A7%E8%BF%91%E8%A7%86%E7%97%85%E7%81%B6%E6%A3%80%E6%B5%8B%E4%B8%8E%E5%88%86%E5%89%B2.zip'\r\n",
    "\r\n",
    "if not os.path.exists('./work/Train_and_test.zip'):\r\n",
    "    print(\"Downloading start!\")\r\n",
    "    urllib.request.urlretrieve(url, \"./work/Train_and_test.zip\")  \r\n",
    "    print(\"Downloading end!\")\r\n",
    "else:\r\n",
    "    print(\"Already Downloading\")\r\n",
    "\r\n",
    "! unzip -oq ./work/Train_and_test.zip -d ./work"
   ]
  },
  {
   "cell_type": "markdown",
   "metadata": {
    "collapsed": false
   },
   "source": [
    "## 导入包"
   ]
  },
  {
   "cell_type": "code",
   "execution_count": 1,
   "metadata": {
    "collapsed": false
   },
   "outputs": [
    {
     "name": "stdout",
     "output_type": "stream",
     "text": [
      "Looking in indexes: https://pypi.tuna.tsinghua.edu.cn/simple\n",
      "Collecting paddleseg\n",
      "\u001b[?25l  Downloading https://pypi.tuna.tsinghua.edu.cn/packages/a6/f9/c42edf1e595478d9578595aa23dbae848b68553b98048f6457c3c4c9003d/paddleseg-2.3.0-py3-none-any.whl (236kB)\n",
      "\u001b[K     |████████████████████████████████| 245kB 9.6MB/s eta 0:00:01\n",
      "\u001b[?25hRequirement already satisfied: pyyaml>=5.1 in /opt/conda/envs/python35-paddle120-env/lib/python3.7/site-packages (from paddleseg) (5.1.2)\n",
      "Requirement already satisfied: visualdl>=2.0.0 in /opt/conda/envs/python35-paddle120-env/lib/python3.7/site-packages (from paddleseg) (2.2.0)\n",
      "Requirement already satisfied: opencv-python in /opt/conda/envs/python35-paddle120-env/lib/python3.7/site-packages (from paddleseg) (4.1.1.26)\n",
      "Requirement already satisfied: pre-commit in /opt/conda/envs/python35-paddle120-env/lib/python3.7/site-packages (from paddleseg) (1.21.0)\n",
      "Requirement already satisfied: flake8 in /opt/conda/envs/python35-paddle120-env/lib/python3.7/site-packages (from paddleseg) (3.8.2)\n",
      "Requirement already satisfied: filelock in /opt/conda/envs/python35-paddle120-env/lib/python3.7/site-packages (from paddleseg) (3.0.12)\n",
      "Requirement already satisfied: prettytable in /opt/conda/envs/python35-paddle120-env/lib/python3.7/site-packages (from paddleseg) (0.7.2)\n",
      "Requirement already satisfied: scipy in /opt/conda/envs/python35-paddle120-env/lib/python3.7/site-packages (from paddleseg) (1.6.3)\n",
      "Requirement already satisfied: yapf==0.26.0 in /opt/conda/envs/python35-paddle120-env/lib/python3.7/site-packages (from paddleseg) (0.26.0)\n",
      "Requirement already satisfied: tqdm in /opt/conda/envs/python35-paddle120-env/lib/python3.7/site-packages (from paddleseg) (4.36.1)\n",
      "Requirement already satisfied: Flask-Babel>=1.0.0 in /opt/conda/envs/python35-paddle120-env/lib/python3.7/site-packages (from visualdl>=2.0.0->paddleseg) (1.0.0)\n",
      "Requirement already satisfied: protobuf>=3.11.0 in /opt/conda/envs/python35-paddle120-env/lib/python3.7/site-packages (from visualdl>=2.0.0->paddleseg) (3.14.0)\n",
      "Requirement already satisfied: shellcheck-py in /opt/conda/envs/python35-paddle120-env/lib/python3.7/site-packages (from visualdl>=2.0.0->paddleseg) (0.7.1.1)\n",
      "Requirement already satisfied: flask>=1.1.1 in /opt/conda/envs/python35-paddle120-env/lib/python3.7/site-packages (from visualdl>=2.0.0->paddleseg) (1.1.1)\n",
      "Requirement already satisfied: numpy in /opt/conda/envs/python35-paddle120-env/lib/python3.7/site-packages (from visualdl>=2.0.0->paddleseg) (1.20.3)\n",
      "Requirement already satisfied: requests in /opt/conda/envs/python35-paddle120-env/lib/python3.7/site-packages (from visualdl>=2.0.0->paddleseg) (2.22.0)\n",
      "Requirement already satisfied: six>=1.14.0 in /opt/conda/envs/python35-paddle120-env/lib/python3.7/site-packages (from visualdl>=2.0.0->paddleseg) (1.15.0)\n",
      "Requirement already satisfied: Pillow>=7.0.0 in /opt/conda/envs/python35-paddle120-env/lib/python3.7/site-packages (from visualdl>=2.0.0->paddleseg) (7.1.2)\n",
      "Requirement already satisfied: pandas in /opt/conda/envs/python35-paddle120-env/lib/python3.7/site-packages (from visualdl>=2.0.0->paddleseg) (1.1.5)\n",
      "Requirement already satisfied: bce-python-sdk in /opt/conda/envs/python35-paddle120-env/lib/python3.7/site-packages (from visualdl>=2.0.0->paddleseg) (0.8.53)\n",
      "Requirement already satisfied: matplotlib in /opt/conda/envs/python35-paddle120-env/lib/python3.7/site-packages (from visualdl>=2.0.0->paddleseg) (2.2.3)\n",
      "Requirement already satisfied: aspy.yaml in /opt/conda/envs/python35-paddle120-env/lib/python3.7/site-packages (from pre-commit->paddleseg) (1.3.0)\n",
      "Requirement already satisfied: virtualenv>=15.2 in /opt/conda/envs/python35-paddle120-env/lib/python3.7/site-packages (from pre-commit->paddleseg) (16.7.9)\n",
      "Requirement already satisfied: identify>=1.0.0 in /opt/conda/envs/python35-paddle120-env/lib/python3.7/site-packages (from pre-commit->paddleseg) (1.4.10)\n",
      "Requirement already satisfied: cfgv>=2.0.0 in /opt/conda/envs/python35-paddle120-env/lib/python3.7/site-packages (from pre-commit->paddleseg) (2.0.1)\n",
      "Requirement already satisfied: importlib-metadata; python_version < \"3.8\" in /opt/conda/envs/python35-paddle120-env/lib/python3.7/site-packages (from pre-commit->paddleseg) (0.23)\n",
      "Requirement already satisfied: toml in /opt/conda/envs/python35-paddle120-env/lib/python3.7/site-packages (from pre-commit->paddleseg) (0.10.0)\n",
      "Requirement already satisfied: nodeenv>=0.11.1 in /opt/conda/envs/python35-paddle120-env/lib/python3.7/site-packages (from pre-commit->paddleseg) (1.3.4)\n",
      "Requirement already satisfied: pycodestyle<2.7.0,>=2.6.0a1 in /opt/conda/envs/python35-paddle120-env/lib/python3.7/site-packages (from flake8->paddleseg) (2.6.0)\n",
      "Requirement already satisfied: mccabe<0.7.0,>=0.6.0 in /opt/conda/envs/python35-paddle120-env/lib/python3.7/site-packages (from flake8->paddleseg) (0.6.1)\n",
      "Requirement already satisfied: pyflakes<2.3.0,>=2.2.0 in /opt/conda/envs/python35-paddle120-env/lib/python3.7/site-packages (from flake8->paddleseg) (2.2.0)\n",
      "Requirement already satisfied: pytz in /opt/conda/envs/python35-paddle120-env/lib/python3.7/site-packages (from Flask-Babel>=1.0.0->visualdl>=2.0.0->paddleseg) (2019.3)\n",
      "Requirement already satisfied: Jinja2>=2.5 in /opt/conda/envs/python35-paddle120-env/lib/python3.7/site-packages (from Flask-Babel>=1.0.0->visualdl>=2.0.0->paddleseg) (2.10.1)\n",
      "Requirement already satisfied: Babel>=2.3 in /opt/conda/envs/python35-paddle120-env/lib/python3.7/site-packages (from Flask-Babel>=1.0.0->visualdl>=2.0.0->paddleseg) (2.8.0)\n",
      "Requirement already satisfied: itsdangerous>=0.24 in /opt/conda/envs/python35-paddle120-env/lib/python3.7/site-packages (from flask>=1.1.1->visualdl>=2.0.0->paddleseg) (1.1.0)\n",
      "Requirement already satisfied: Werkzeug>=0.15 in /opt/conda/envs/python35-paddle120-env/lib/python3.7/site-packages (from flask>=1.1.1->visualdl>=2.0.0->paddleseg) (0.16.0)\n",
      "Requirement already satisfied: click>=5.1 in /opt/conda/envs/python35-paddle120-env/lib/python3.7/site-packages (from flask>=1.1.1->visualdl>=2.0.0->paddleseg) (7.0)\n",
      "Requirement already satisfied: certifi>=2017.4.17 in /opt/conda/envs/python35-paddle120-env/lib/python3.7/site-packages (from requests->visualdl>=2.0.0->paddleseg) (2019.9.11)\n",
      "Requirement already satisfied: idna<2.9,>=2.5 in /opt/conda/envs/python35-paddle120-env/lib/python3.7/site-packages (from requests->visualdl>=2.0.0->paddleseg) (2.8)\n",
      "Requirement already satisfied: chardet<3.1.0,>=3.0.2 in /opt/conda/envs/python35-paddle120-env/lib/python3.7/site-packages (from requests->visualdl>=2.0.0->paddleseg) (3.0.4)\n",
      "Requirement already satisfied: urllib3!=1.25.0,!=1.25.1,<1.26,>=1.21.1 in /opt/conda/envs/python35-paddle120-env/lib/python3.7/site-packages (from requests->visualdl>=2.0.0->paddleseg) (1.25.6)\n",
      "Requirement already satisfied: python-dateutil>=2.7.3 in /opt/conda/envs/python35-paddle120-env/lib/python3.7/site-packages (from pandas->visualdl>=2.0.0->paddleseg) (2.8.0)\n",
      "Requirement already satisfied: future>=0.6.0 in /opt/conda/envs/python35-paddle120-env/lib/python3.7/site-packages (from bce-python-sdk->visualdl>=2.0.0->paddleseg) (0.18.0)\n",
      "Requirement already satisfied: pycryptodome>=3.8.0 in /opt/conda/envs/python35-paddle120-env/lib/python3.7/site-packages (from bce-python-sdk->visualdl>=2.0.0->paddleseg) (3.9.9)\n",
      "Requirement already satisfied: cycler>=0.10 in /opt/conda/envs/python35-paddle120-env/lib/python3.7/site-packages (from matplotlib->visualdl>=2.0.0->paddleseg) (0.10.0)\n",
      "Requirement already satisfied: kiwisolver>=1.0.1 in /opt/conda/envs/python35-paddle120-env/lib/python3.7/site-packages (from matplotlib->visualdl>=2.0.0->paddleseg) (1.1.0)\n",
      "Requirement already satisfied: pyparsing!=2.0.4,!=2.1.2,!=2.1.6,>=2.0.1 in /opt/conda/envs/python35-paddle120-env/lib/python3.7/site-packages (from matplotlib->visualdl>=2.0.0->paddleseg) (2.4.2)\n",
      "Requirement already satisfied: zipp>=0.5 in /opt/conda/envs/python35-paddle120-env/lib/python3.7/site-packages (from importlib-metadata; python_version < \"3.8\"->pre-commit->paddleseg) (0.6.0)\n",
      "Requirement already satisfied: MarkupSafe>=0.23 in /opt/conda/envs/python35-paddle120-env/lib/python3.7/site-packages (from Jinja2>=2.5->Flask-Babel>=1.0.0->visualdl>=2.0.0->paddleseg) (1.1.1)\n",
      "Requirement already satisfied: setuptools in /opt/conda/envs/python35-paddle120-env/lib/python3.7/site-packages (from kiwisolver>=1.0.1->matplotlib->visualdl>=2.0.0->paddleseg) (56.2.0)\n",
      "Requirement already satisfied: more-itertools in /opt/conda/envs/python35-paddle120-env/lib/python3.7/site-packages (from zipp>=0.5->importlib-metadata; python_version < \"3.8\"->pre-commit->paddleseg) (7.2.0)\n",
      "Installing collected packages: paddleseg\n",
      "Successfully installed paddleseg-2.3.0\n"
     ]
    }
   ],
   "source": [
    "!pip install paddleseg\r\n",
    "\r\n",
    "#导入常用的库\r\n",
    "import os\r\n",
    "import random\r\n",
    "import numpy as np\r\n",
    "from random import shuffle\r\n",
    "import cv2\r\n",
    "import paddle\r\n",
    "from PIL import Image\r\n",
    "import shutil\r\n",
    "import re\r\n",
    "from paddle.vision.transforms import functional as F\r\n",
    "import os.path\r\n",
    "import paddleseg.transforms as T\r\n",
    "from paddleseg.datasets import OpticDiscSeg,Dataset\r\n",
    "import paddleseg.models\r\n",
    "from paddleseg.models import UNet\r\n",
    "from paddleseg.models import OCRNet\r\n",
    "from paddleseg.models.losses import CrossEntropyLoss,DiceLoss, MixedLoss\r\n",
    "from paddleseg.core import train\r\n",
    "from paddleseg.core import evaluate\r\n",
    "from paddleseg.core import predict\r\n",
    "from PIL import Image"
   ]
  },
  {
   "cell_type": "markdown",
   "metadata": {
    "collapsed": false
   },
   "source": [
    "## Atr分割部分\n",
    "### 数据准备"
   ]
  },
  {
   "cell_type": "code",
   "execution_count": 5,
   "metadata": {
    "collapsed": false
   },
   "outputs": [
    {
     "name": "stdout",
     "output_type": "stream",
     "text": [
      "mkdir: cannot create directory ‘/home/aistudio/work/常规赛：PALM病理性近视病灶检测与分割/Train/Lesion_Masks/Atrophy_png’: File exists\r\n"
     ]
    }
   ],
   "source": [
    "! mkdir /home/aistudio/work/常规赛：PALM病理性近视病灶检测与分割/Train/Lesion_Masks/Atrophy_png\r\n",
    "\r\n",
    "names=[item.split('.')[0] for item in os.listdir('work/常规赛：PALM病理性近视病灶检测与分割/Train/fundus_image')]\r\n",
    "ori_train_list=[]\r\n",
    "img_dir='/home/aistudio/work/常规赛：PALM病理性近视病灶检测与分割/Train/fundus_image/'\r\n",
    "mask_dir='/home/aistudio/work/常规赛：PALM病理性近视病灶检测与分割/Train/Lesion_Masks/Atrophy/'\r\n",
    "mask_dir2='/home/aistudio/work/常规赛：PALM病理性近视病灶检测与分割/Train/Lesion_Masks/Atrophy_png/'\r\n",
    "for name in names:\r\n",
    "    if os.path.exists(img_dir+name+'.jpg') and os.path.exists(mask_dir+name+'.bmp'):\r\n",
    "        im=Image.open(mask_dir+name+'.bmp')\r\n",
    "        im=(np.array(im)/255).astype('uint8')\r\n",
    "    else: #if os.path.exists(img_dir+name+'.jpg') and ! os.path.exists(mask_dir+name+'.bmp'):\r\n",
    "        im=Image.open(img_dir+name+'.jpg')\r\n",
    "        row=np.array(im).shape[0]\r\n",
    "        col=np.array(im).shape[1]\r\n",
    "        im=np.ones([row,col],dtype='int64').astype('uint8')\r\n",
    "    im = Image.fromarray(im)\r\n",
    "    im.save(mask_dir2+name+'.png')\r\n",
    "    ori_train_list.append(img_dir+name+'.jpg '+mask_dir2+name+'.png'+'\\n')"
   ]
  },
  {
   "cell_type": "code",
   "execution_count": 6,
   "metadata": {
    "collapsed": false
   },
   "outputs": [],
   "source": [
    "# 分割验证集\r\n",
    "cut_percent=0.2\r\n",
    "cut_point=int(cut_percent*len(ori_train_list))\r\n",
    "random.shuffle(ori_train_list)\r\n",
    "\r\n",
    "with open('atr_train.txt','w') as f:\r\n",
    "    for item in ori_train_list[cut_point:]:\r\n",
    "        f.write(item)\r\n",
    "\r\n",
    "with open('atr_eval.txt','w') as f:\r\n",
    "    for item in ori_train_list[:cut_point]:\r\n",
    "        f.write(item)"
   ]
  },
  {
   "cell_type": "markdown",
   "metadata": {
    "collapsed": false
   },
   "source": [
    "### 训练"
   ]
  },
  {
   "cell_type": "code",
   "execution_count": 7,
   "metadata": {
    "collapsed": false
   },
   "outputs": [],
   "source": [
    "train_transforms = [\r\n",
    "    #T.RandomHorizontalFlip(),# 水平翻转\r\n",
    "    #T.RandomVerticalFlip(),# 垂直翻转\r\n",
    "    #T.RandomDistort(0.4),# 随机扭曲\r\n",
    "    #T.RandomBlur(0.3),# 高斯模糊\r\n",
    "    #T.RandomScaleAspect(min_scale=0.5,aspect_ratio=0.5),# 随机缩放\r\n",
    "    T.Resize(target_size=(512,512)),\r\n",
    "    T.Normalize()  # 图像标准化\r\n",
    "]\r\n",
    "\r\n",
    "val_transforms = [\r\n",
    "    T.Resize(target_size=(512,512)),\r\n",
    "    T.Normalize()\r\n",
    "]"
   ]
  },
  {
   "cell_type": "code",
   "execution_count": 8,
   "metadata": {
    "collapsed": false
   },
   "outputs": [],
   "source": [
    "# 构建训练集\r\n",
    "train_dataset = Dataset(\r\n",
    "    dataset_root='/home/aistudio',\r\n",
    "    train_path='/home/aistudio/atr_train.txt',\r\n",
    "    transforms=train_transforms,\r\n",
    "    num_classes=2,\r\n",
    "    mode='train'\r\n",
    ")\r\n",
    "#验证集\r\n",
    "val_dataset = Dataset(\r\n",
    "    dataset_root='/home/aistudio',\r\n",
    "    val_path='/home/aistudio/atr_eval.txt',\r\n",
    "    transforms=val_transforms,\r\n",
    "    num_classes=2,\r\n",
    "    mode='val'\r\n",
    ")"
   ]
  },
  {
   "cell_type": "code",
   "execution_count": 9,
   "metadata": {
    "collapsed": false
   },
   "outputs": [],
   "source": [
    "# unet_model = UNet(num_classes=2,pretrained='/home/aistudio/output/PLAM_model_3/best_model/model.pdparams')#使用预训练模型unet进行训练\r\n",
    "model = UNet(num_classes=2)#使用unet进行训练"
   ]
  },
  {
   "cell_type": "code",
   "execution_count": 11,
   "metadata": {
    "collapsed": false
   },
   "outputs": [],
   "source": [
    "base_lr =0.001\r\n",
    "iters = 1000\r\n",
    "\r\n",
    "#自动调整学习率\r\n",
    "lr =paddle.optimizer.lr.CosineAnnealingDecay(base_lr, T_max=(iters // 3), last_epoch=0.5)\r\n",
    "u_optimizer = paddle.optimizer.Adam(lr, parameters=model.parameters())\r\n",
    "\r\n",
    "mixtureLosses = [CrossEntropyLoss(),DiceLoss() ]\r\n",
    "mixtureCoef = [0.6,0.4]\r\n",
    "losses = {}\r\n",
    "losses['types'] = [MixedLoss(mixtureLosses, mixtureCoef)]\r\n",
    "losses['coef'] = [1]"
   ]
  },
  {
   "cell_type": "code",
   "execution_count": 12,
   "metadata": {
    "collapsed": false
   },
   "outputs": [
    {
     "name": "stderr",
     "output_type": "stream",
     "text": [
      "/opt/conda/envs/python35-paddle120-env/lib/python3.7/site-packages/paddle/nn/layer/norm.py:641: UserWarning: When training, we now always track global mean and variance.\n",
      "  \"When training, we now always track global mean and variance.\")\n",
      "/opt/conda/envs/python35-paddle120-env/lib/python3.7/site-packages/paddle/fluid/dygraph/math_op_patch.py:239: UserWarning: The dtype of left and right variables are not the same, left dtype is paddle.float32, but right dtype is paddle.int64, the right dtype will convert to paddle.float32\n",
      "  format(lhs_dtype, rhs_dtype, lhs_dtype))\n",
      "/opt/conda/envs/python35-paddle120-env/lib/python3.7/site-packages/paddle/fluid/dygraph/math_op_patch.py:239: UserWarning: The dtype of left and right variables are not the same, left dtype is paddle.float32, but right dtype is paddle.bool, the right dtype will convert to paddle.float32\n",
      "  format(lhs_dtype, rhs_dtype, lhs_dtype))\n"
     ]
    },
    {
     "name": "stdout",
     "output_type": "stream",
     "text": [
      "2021-09-25 16:06:53 [INFO]\t[TRAIN] epoch: 1, iter: 20/1000, loss: 0.3189, lr: 0.000991, batch_cost: 0.7416, reader_cost: 0.25537, ips: 10.7881 samples/sec | ETA 00:12:06\n",
      "2021-09-25 16:07:06 [INFO]\t[TRAIN] epoch: 1, iter: 40/1000, loss: 0.2371, lr: 0.000964, batch_cost: 0.6598, reader_cost: 0.17488, ips: 12.1248 samples/sec | ETA 00:10:33\n",
      "2021-09-25 16:07:19 [INFO]\t[TRAIN] epoch: 1, iter: 60/1000, loss: 0.2375, lr: 0.000921, batch_cost: 0.6605, reader_cost: 0.17665, ips: 12.1112 samples/sec | ETA 00:10:20\n",
      "2021-09-25 16:07:32 [INFO]\t[TRAIN] epoch: 1, iter: 80/1000, loss: 0.2174, lr: 0.000863, batch_cost: 0.6622, reader_cost: 0.17883, ips: 12.0813 samples/sec | ETA 00:10:09\n",
      "2021-09-25 16:07:46 [INFO]\t[TRAIN] epoch: 2, iter: 100/1000, loss: 0.2013, lr: 0.000792, batch_cost: 0.6964, reader_cost: 0.21270, ips: 11.4873 samples/sec | ETA 00:10:26\n",
      "2021-09-25 16:07:59 [INFO]\t[TRAIN] epoch: 2, iter: 120/1000, loss: 0.2129, lr: 0.000710, batch_cost: 0.6351, reader_cost: 0.15084, ips: 12.5963 samples/sec | ETA 00:09:18\n",
      "2021-09-25 16:08:12 [INFO]\t[TRAIN] epoch: 2, iter: 140/1000, loss: 0.2374, lr: 0.000621, batch_cost: 0.6532, reader_cost: 0.16736, ips: 12.2470 samples/sec | ETA 00:09:21\n",
      "2021-09-25 16:08:25 [INFO]\t[TRAIN] epoch: 2, iter: 160/1000, loss: 0.1799, lr: 0.000528, batch_cost: 0.6320, reader_cost: 0.14698, ips: 12.6588 samples/sec | ETA 00:08:50\n",
      "2021-09-25 16:08:39 [INFO]\t[TRAIN] epoch: 3, iter: 180/1000, loss: 0.2099, lr: 0.000434, batch_cost: 0.7188, reader_cost: 0.23383, ips: 11.1293 samples/sec | ETA 00:09:49\n",
      "2021-09-25 16:08:52 [INFO]\t[TRAIN] epoch: 3, iter: 200/1000, loss: 0.2094, lr: 0.000342, batch_cost: 0.6447, reader_cost: 0.15941, ips: 12.4090 samples/sec | ETA 00:08:35\n",
      "2021-09-25 16:08:52 [INFO]\tStart evaluating (total_samples: 160, total_iters: 160)...\n"
     ]
    },
    {
     "name": "stderr",
     "output_type": "stream",
     "text": [
      "/opt/conda/envs/python35-paddle120-env/lib/python3.7/site-packages/paddle/fluid/dygraph/math_op_patch.py:239: UserWarning: The dtype of left and right variables are not the same, left dtype is paddle.int32, but right dtype is paddle.bool, the right dtype will convert to paddle.int32\n",
      "  format(lhs_dtype, rhs_dtype, lhs_dtype))\n",
      "/opt/conda/envs/python35-paddle120-env/lib/python3.7/site-packages/paddle/fluid/dygraph/math_op_patch.py:239: UserWarning: The dtype of left and right variables are not the same, left dtype is paddle.int64, but right dtype is paddle.bool, the right dtype will convert to paddle.int64\n",
      "  format(lhs_dtype, rhs_dtype, lhs_dtype))\n",
      "160/160 [==============================] - 26s 162ms/step - batch_cost: 0.1611 - reader cost: 0.14\n"
     ]
    },
    {
     "name": "stdout",
     "output_type": "stream",
     "text": [
      "2021-09-25 16:09:18 [INFO]\t[EVAL] #Images: 160 mIoU: 0.6848 Acc: 0.9560 Kappa: 0.5658 \n",
      "2021-09-25 16:09:18 [INFO]\t[EVAL] Class IoU: \n",
      "[0.4149 0.9546]\n",
      "2021-09-25 16:09:18 [INFO]\t[EVAL] Class Acc: \n",
      "[0.8656 0.9594]\n",
      "2021-09-25 16:09:19 [INFO]\t[EVAL] The model with the best validation mIoU (0.6848) was saved at iter 200.\n",
      "2021-09-25 16:09:30 [INFO]\t[TRAIN] epoch: 3, iter: 220/1000, loss: 0.1697, lr: 0.000256, batch_cost: 0.5635, reader_cost: 0.07718, ips: 14.1960 samples/sec | ETA 00:07:19\n",
      "2021-09-25 16:09:43 [INFO]\t[TRAIN] epoch: 3, iter: 240/1000, loss: 0.1808, lr: 0.000179, batch_cost: 0.6226, reader_cost: 0.13678, ips: 12.8489 samples/sec | ETA 00:07:53\n",
      "2021-09-25 16:09:57 [INFO]\t[TRAIN] epoch: 4, iter: 260/1000, loss: 0.1919, lr: 0.000112, batch_cost: 0.6972, reader_cost: 0.20993, ips: 11.4751 samples/sec | ETA 00:08:35\n",
      "2021-09-25 16:10:10 [INFO]\t[TRAIN] epoch: 4, iter: 280/1000, loss: 0.1635, lr: 0.000060, batch_cost: 0.6671, reader_cost: 0.18090, ips: 11.9920 samples/sec | ETA 00:08:00\n",
      "2021-09-25 16:10:23 [INFO]\t[TRAIN] epoch: 4, iter: 300/1000, loss: 0.1521, lr: 0.000023, batch_cost: 0.6499, reader_cost: 0.16144, ips: 12.3097 samples/sec | ETA 00:07:34\n",
      "2021-09-25 16:10:35 [INFO]\t[TRAIN] epoch: 4, iter: 320/1000, loss: 0.1546, lr: 0.000003, batch_cost: 0.6057, reader_cost: 0.11806, ips: 13.2088 samples/sec | ETA 00:06:51\n",
      "2021-09-25 16:10:49 [INFO]\t[TRAIN] epoch: 5, iter: 340/1000, loss: 0.1633, lr: 0.000001, batch_cost: 0.6983, reader_cost: 0.21027, ips: 11.4560 samples/sec | ETA 00:07:40\n",
      "2021-09-25 16:11:02 [INFO]\t[TRAIN] epoch: 5, iter: 360/1000, loss: 0.1488, lr: 0.000017, batch_cost: 0.6596, reader_cost: 0.17262, ips: 12.1290 samples/sec | ETA 00:07:02\n",
      "2021-09-25 16:11:14 [INFO]\t[TRAIN] epoch: 5, iter: 380/1000, loss: 0.1623, lr: 0.000049, batch_cost: 0.6154, reader_cost: 0.12707, ips: 12.9992 samples/sec | ETA 00:06:21\n",
      "2021-09-25 16:11:27 [INFO]\t[TRAIN] epoch: 5, iter: 400/1000, loss: 0.1524, lr: 0.000098, batch_cost: 0.6381, reader_cost: 0.15051, ips: 12.5376 samples/sec | ETA 00:06:22\n",
      "2021-09-25 16:11:27 [INFO]\tStart evaluating (total_samples: 160, total_iters: 160)...\n"
     ]
    },
    {
     "name": "stderr",
     "output_type": "stream",
     "text": [
      "160/160 [==============================] - 25s 155ms/step - batch_cost: 0.1532 - reader cost: 0.137\n"
     ]
    },
    {
     "name": "stdout",
     "output_type": "stream",
     "text": [
      "2021-09-25 16:11:52 [INFO]\t[EVAL] #Images: 160 mIoU: 0.7174 Acc: 0.9602 Kappa: 0.6254 \n",
      "2021-09-25 16:11:52 [INFO]\t[EVAL] Class IoU: \n",
      "[0.4761 0.9587]\n",
      "2021-09-25 16:11:52 [INFO]\t[EVAL] Class Acc: \n",
      "[0.8653 0.9644]\n",
      "2021-09-25 16:11:53 [INFO]\t[EVAL] The model with the best validation mIoU (0.7174) was saved at iter 400.\n",
      "2021-09-25 16:12:07 [INFO]\t[TRAIN] epoch: 6, iter: 420/1000, loss: 0.1482, lr: 0.000161, batch_cost: 0.7210, reader_cost: 0.23360, ips: 11.0953 samples/sec | ETA 00:06:58\n",
      "2021-09-25 16:12:20 [INFO]\t[TRAIN] epoch: 6, iter: 440/1000, loss: 0.1795, lr: 0.000236, batch_cost: 0.6561, reader_cost: 0.16861, ips: 12.1932 samples/sec | ETA 00:06:07\n",
      "2021-09-25 16:12:33 [INFO]\t[TRAIN] epoch: 6, iter: 460/1000, loss: 0.1783, lr: 0.000320, batch_cost: 0.6099, reader_cost: 0.12128, ips: 13.1175 samples/sec | ETA 00:05:29\n",
      "2021-09-25 16:12:45 [INFO]\t[TRAIN] epoch: 6, iter: 480/1000, loss: 0.1708, lr: 0.000411, batch_cost: 0.6275, reader_cost: 0.13800, ips: 12.7482 samples/sec | ETA 00:05:26\n",
      "2021-09-25 16:13:00 [INFO]\t[TRAIN] epoch: 7, iter: 500/1000, loss: 0.1926, lr: 0.000505, batch_cost: 0.7256, reader_cost: 0.23704, ips: 11.0260 samples/sec | ETA 00:06:02\n",
      "2021-09-25 16:13:12 [INFO]\t[TRAIN] epoch: 7, iter: 520/1000, loss: 0.1962, lr: 0.000598, batch_cost: 0.6349, reader_cost: 0.14659, ips: 12.5998 samples/sec | ETA 00:05:04\n",
      "2021-09-25 16:13:25 [INFO]\t[TRAIN] epoch: 7, iter: 540/1000, loss: 0.1692, lr: 0.000689, batch_cost: 0.6265, reader_cost: 0.13785, ips: 12.7696 samples/sec | ETA 00:04:48\n",
      "2021-09-25 16:13:38 [INFO]\t[TRAIN] epoch: 7, iter: 560/1000, loss: 0.1435, lr: 0.000772, batch_cost: 0.6454, reader_cost: 0.15258, ips: 12.3962 samples/sec | ETA 00:04:43\n",
      "2021-09-25 16:13:52 [INFO]\t[TRAIN] epoch: 8, iter: 580/1000, loss: 0.1741, lr: 0.000846, batch_cost: 0.7121, reader_cost: 0.22301, ips: 11.2344 samples/sec | ETA 00:04:59\n",
      "2021-09-25 16:14:05 [INFO]\t[TRAIN] epoch: 8, iter: 600/1000, loss: 0.1838, lr: 0.000908, batch_cost: 0.6466, reader_cost: 0.15797, ips: 12.3715 samples/sec | ETA 00:04:18\n",
      "2021-09-25 16:14:05 [INFO]\tStart evaluating (total_samples: 160, total_iters: 160)...\n"
     ]
    },
    {
     "name": "stderr",
     "output_type": "stream",
     "text": [
      "160/160 [==============================] - 25s 155ms/step - batch_cost: 0.1537 - reader cost: 0.138\n"
     ]
    },
    {
     "name": "stdout",
     "output_type": "stream",
     "text": [
      "2021-09-25 16:14:30 [INFO]\t[EVAL] #Images: 160 mIoU: 0.7456 Acc: 0.9642 Kappa: 0.6734 \n",
      "2021-09-25 16:14:30 [INFO]\t[EVAL] Class IoU: \n",
      "[0.5285 0.9627]\n",
      "2021-09-25 16:14:30 [INFO]\t[EVAL] Class Acc: \n",
      "[0.8771 0.9684]\n",
      "2021-09-25 16:14:31 [INFO]\t[EVAL] The model with the best validation mIoU (0.7456) was saved at iter 600.\n",
      "2021-09-25 16:14:42 [INFO]\t[TRAIN] epoch: 8, iter: 620/1000, loss: 0.1776, lr: 0.000955, batch_cost: 0.5456, reader_cost: 0.05808, ips: 14.6621 samples/sec | ETA 00:03:27\n",
      "2021-09-25 16:14:54 [INFO]\t[TRAIN] epoch: 8, iter: 640/1000, loss: 0.1746, lr: 0.000986, batch_cost: 0.6464, reader_cost: 0.15869, ips: 12.3763 samples/sec | ETA 00:03:52\n",
      "2021-09-25 16:15:08 [INFO]\t[TRAIN] epoch: 9, iter: 660/1000, loss: 0.1637, lr: 0.000999, batch_cost: 0.6960, reader_cost: 0.20703, ips: 11.4946 samples/sec | ETA 00:03:56\n",
      "2021-09-25 16:15:21 [INFO]\t[TRAIN] epoch: 9, iter: 680/1000, loss: 0.1913, lr: 0.000995, batch_cost: 0.6138, reader_cost: 0.12540, ips: 13.0330 samples/sec | ETA 00:03:16\n",
      "2021-09-25 16:15:33 [INFO]\t[TRAIN] epoch: 9, iter: 700/1000, loss: 0.1571, lr: 0.000974, batch_cost: 0.6337, reader_cost: 0.14075, ips: 12.6244 samples/sec | ETA 00:03:10\n",
      "2021-09-25 16:15:46 [INFO]\t[TRAIN] epoch: 9, iter: 720/1000, loss: 0.1747, lr: 0.000935, batch_cost: 0.6431, reader_cost: 0.15344, ips: 12.4395 samples/sec | ETA 00:03:00\n",
      "2021-09-25 16:16:00 [INFO]\t[TRAIN] epoch: 10, iter: 740/1000, loss: 0.1321, lr: 0.000882, batch_cost: 0.6943, reader_cost: 0.20494, ips: 11.5228 samples/sec | ETA 00:03:00\n",
      "2021-09-25 16:16:12 [INFO]\t[TRAIN] epoch: 10, iter: 760/1000, loss: 0.1779, lr: 0.000814, batch_cost: 0.6162, reader_cost: 0.12656, ips: 12.9834 samples/sec | ETA 00:02:27\n",
      "2021-09-25 16:16:25 [INFO]\t[TRAIN] epoch: 10, iter: 780/1000, loss: 0.1739, lr: 0.000736, batch_cost: 0.6318, reader_cost: 0.14194, ips: 12.6622 samples/sec | ETA 00:02:18\n",
      "2021-09-25 16:16:38 [INFO]\t[TRAIN] epoch: 10, iter: 800/1000, loss: 0.1529, lr: 0.000649, batch_cost: 0.6597, reader_cost: 0.16957, ips: 12.1276 samples/sec | ETA 00:02:11\n",
      "2021-09-25 16:16:38 [INFO]\tStart evaluating (total_samples: 160, total_iters: 160)...\n"
     ]
    },
    {
     "name": "stderr",
     "output_type": "stream",
     "text": [
      "160/160 [==============================] - 25s 153ms/step - batch_cost: 0.1520 - reader cost: 0.13\n"
     ]
    },
    {
     "name": "stdout",
     "output_type": "stream",
     "text": [
      "2021-09-25 16:17:03 [INFO]\t[EVAL] #Images: 160 mIoU: 0.7917 Acc: 0.9698 Kappa: 0.7458 \n",
      "2021-09-25 16:17:03 [INFO]\t[EVAL] Class IoU: \n",
      "[0.6152 0.9682]\n",
      "2021-09-25 16:17:03 [INFO]\t[EVAL] Class Acc: \n",
      "[0.8537 0.9767]\n",
      "2021-09-25 16:17:04 [INFO]\t[EVAL] The model with the best validation mIoU (0.7917) was saved at iter 800.\n",
      "2021-09-25 16:17:17 [INFO]\t[TRAIN] epoch: 11, iter: 820/1000, loss: 0.1649, lr: 0.000556, batch_cost: 0.6845, reader_cost: 0.19659, ips: 11.6867 samples/sec | ETA 00:02:03\n",
      "2021-09-25 16:17:30 [INFO]\t[TRAIN] epoch: 11, iter: 840/1000, loss: 0.1376, lr: 0.000462, batch_cost: 0.6301, reader_cost: 0.14171, ips: 12.6955 samples/sec | ETA 00:01:40\n",
      "2021-09-25 16:17:43 [INFO]\t[TRAIN] epoch: 11, iter: 860/1000, loss: 0.1164, lr: 0.000369, batch_cost: 0.6302, reader_cost: 0.14310, ips: 12.6950 samples/sec | ETA 00:01:28\n",
      "2021-09-25 16:17:55 [INFO]\t[TRAIN] epoch: 11, iter: 880/1000, loss: 0.1419, lr: 0.000281, batch_cost: 0.6283, reader_cost: 0.13986, ips: 12.7323 samples/sec | ETA 00:01:15\n",
      "2021-09-25 16:18:09 [INFO]\t[TRAIN] epoch: 12, iter: 900/1000, loss: 0.1237, lr: 0.000201, batch_cost: 0.7036, reader_cost: 0.21323, ips: 11.3699 samples/sec | ETA 00:01:10\n",
      "2021-09-25 16:18:22 [INFO]\t[TRAIN] epoch: 12, iter: 920/1000, loss: 0.1321, lr: 0.000131, batch_cost: 0.6352, reader_cost: 0.14517, ips: 12.5946 samples/sec | ETA 00:00:50\n",
      "2021-09-25 16:18:35 [INFO]\t[TRAIN] epoch: 12, iter: 940/1000, loss: 0.1201, lr: 0.000074, batch_cost: 0.6378, reader_cost: 0.14414, ips: 12.5440 samples/sec | ETA 00:00:38\n",
      "2021-09-25 16:18:47 [INFO]\t[TRAIN] epoch: 12, iter: 960/1000, loss: 0.1397, lr: 0.000033, batch_cost: 0.5961, reader_cost: 0.10531, ips: 13.4209 samples/sec | ETA 00:00:23\n",
      "2021-09-25 16:19:01 [INFO]\t[TRAIN] epoch: 13, iter: 980/1000, loss: 0.1329, lr: 0.000008, batch_cost: 0.7287, reader_cost: 0.23770, ips: 10.9790 samples/sec | ETA 00:00:14\n",
      "2021-09-25 16:19:13 [INFO]\t[TRAIN] epoch: 13, iter: 1000/1000, loss: 0.1111, lr: 0.000000, batch_cost: 0.6002, reader_cost: 0.10869, ips: 13.3296 samples/sec | ETA 00:00:00\n",
      "2021-09-25 16:19:13 [INFO]\tStart evaluating (total_samples: 160, total_iters: 160)...\n"
     ]
    },
    {
     "name": "stderr",
     "output_type": "stream",
     "text": [
      "160/160 [==============================] - 24s 149ms/step - batch_cost: 0.1477 - reader cost: 0.132\n"
     ]
    },
    {
     "name": "stdout",
     "output_type": "stream",
     "text": [
      "2021-09-25 16:19:37 [INFO]\t[EVAL] #Images: 160 mIoU: 0.8163 Acc: 0.9726 Kappa: 0.7817 \n",
      "2021-09-25 16:19:37 [INFO]\t[EVAL] Class IoU: \n",
      "[0.6617 0.971 ]\n",
      "2021-09-25 16:19:37 [INFO]\t[EVAL] Class Acc: \n",
      "[0.8329 0.9822]\n",
      "2021-09-25 16:19:38 [INFO]\t[EVAL] The model with the best validation mIoU (0.8163) was saved at iter 1000.\n",
      "<class 'paddle.nn.layer.conv.Conv2D'>'s flops has been counted\n",
      "<class 'paddle.nn.layer.norm.BatchNorm2D'>'s flops has been counted\n",
      "Cannot find suitable count function for <class 'paddle.nn.layer.pooling.MaxPool2D'>. Treat it as zero FLOPs.\n",
      "Total Flops: -1150812160     Total Params: 13404354\n"
     ]
    },
    {
     "name": "stderr",
     "output_type": "stream",
     "text": [
      "/opt/conda/envs/python35-paddle120-env/lib/python3.7/site-packages/paddle/tensor/creation.py:125: DeprecationWarning: `np.object` is a deprecated alias for the builtin `object`. To silence this warning, use `object` by itself. Doing this will not modify any behavior and is safe. \n",
      "Deprecated in NumPy 1.20; for more details and guidance: https://numpy.org/devdocs/release/1.20.0-notes.html#deprecations\n",
      "  if data.dtype == np.object:\n"
     ]
    }
   ],
   "source": [
    "#进行训练\r\n",
    "train(\r\n",
    "    model = model,\r\n",
    "    train_dataset=train_dataset,\r\n",
    "    val_dataset=val_dataset,\r\n",
    "    optimizer=u_optimizer,\r\n",
    "    save_dir='output/Atr_UNet',\r\n",
    "    iters=iters,  \r\n",
    "    batch_size=8, \r\n",
    "    save_interval=200,\r\n",
    "    log_iters=20,\r\n",
    "    num_workers=2,\r\n",
    "    losses=losses,\r\n",
    "    # losses=CrossEntropyLoss(),\r\n",
    "    use_vdl=False\r\n",
    "    )"
   ]
  },
  {
   "cell_type": "markdown",
   "metadata": {
    "collapsed": false
   },
   "source": [
    "### 进行预测，保存结果到指定目录"
   ]
  },
  {
   "cell_type": "code",
   "execution_count": 14,
   "metadata": {
    "collapsed": false
   },
   "outputs": [
    {
     "name": "stdout",
     "output_type": "stream",
     "text": [
      "2021-09-25 16:25:42 [INFO]\tLoading pretrained model from output/Atr_UNet/best_model/model.pdparams\n",
      "2021-09-25 16:25:42 [INFO]\tThere are 112/112 variables loaded into UNet.\n",
      "2021-09-25 16:25:42 [INFO]\tStart to predict...\n"
     ]
    },
    {
     "name": "stderr",
     "output_type": "stream",
     "text": [
      "400/400 [==============================] - 119s 297ms/ste\n"
     ]
    }
   ],
   "source": [
    "test_list=[\"work/常规赛：PALM病理性近视病灶检测与分割/PALM-Testing400-Images/\"+item for item in os.listdir(\"work/常规赛：PALM病理性近视病灶检测与分割/PALM-Testing400-Images\")]\r\n",
    "\r\n",
    "transforms = T.Compose([\r\n",
    "    T.Resize(target_size=(512, 512)),\r\n",
    "    T.Normalize()\r\n",
    "])\r\n",
    "\r\n",
    "model = paddleseg.models.UNet(num_classes=2)\r\n",
    "\r\n",
    "predict(\r\n",
    "    model,\r\n",
    "    #换自己保存的模型文件\r\n",
    "    model_path = 'output/Atr_UNet/best_model/model.pdparams',\r\n",
    "    transforms=transforms,\r\n",
    "    image_list=test_list,\r\n",
    "    save_dir='atr_result',)"
   ]
  },
  {
   "cell_type": "code",
   "execution_count": 18,
   "metadata": {
    "collapsed": false
   },
   "outputs": [
    {
     "name": "stdout",
     "output_type": "stream",
     "text": [
      "mkdir: cannot create directory ‘Lesion_Segmentation’: File exists\n",
      "mkdir: cannot create directory ‘Lesion_Segmentation/Atrophy/’: File exists\n"
     ]
    }
   ],
   "source": [
    "! mkdir Lesion_Segmentation\r\n",
    "! mkdir Lesion_Segmentation/Atrophy/\r\n",
    "for img in os.listdir('atr_result/pseudo_color_prediction'):\r\n",
    "    img_dir='atr_result/pseudo_color_prediction/'+img\r\n",
    "    im=Image.open(img_dir)\r\n",
    "    im=Image.fromarray(np.array(im)*255)\r\n",
    "    im.save('Lesion_Segmentation/Atrophy/'+img)"
   ]
  },
  {
   "cell_type": "markdown",
   "metadata": {
    "collapsed": false
   },
   "source": [
    "## Det分割部分\n",
    "\n",
    "由于需要Det的文件比较少，大部分文件在Det方面的分类都是不需要分割，所以仅仅使用部分样本进行训练\n",
    "\n",
    "### 数据准备"
   ]
  },
  {
   "cell_type": "code",
   "execution_count": 4,
   "metadata": {
    "collapsed": false
   },
   "outputs": [
    {
     "name": "stdout",
     "output_type": "stream",
     "text": [
      "mkdir: cannot create directory ‘/home/aistudio/work/常规赛：PALM病理性近视病灶检测与分割/Train/Lesion_Masks/Detachment_png’: File exists\r\n"
     ]
    }
   ],
   "source": [
    "! mkdir /home/aistudio/work/常规赛：PALM病理性近视病灶检测与分割/Train/Lesion_Masks/Detachment_png\r\n",
    "\r\n",
    "names=[item.split('.')[0] for item in os.listdir('work/常规赛：PALM病理性近视病灶检测与分割/Train/fundus_image')]\r\n",
    "ori_train_list=[]\r\n",
    "img_dir='/home/aistudio/work/常规赛：PALM病理性近视病灶检测与分割/Train/fundus_image/'\r\n",
    "mask_dir='/home/aistudio/work/常规赛：PALM病理性近视病灶检测与分割/Train/Lesion_Masks/Detachment/'\r\n",
    "mask_dir2='/home/aistudio/work/常规赛：PALM病理性近视病灶检测与分割/Train/Lesion_Masks/Detachment_png/'\r\n",
    "for name in names:\r\n",
    "    if os.path.exists(img_dir+name+'.jpg') and os.path.exists(mask_dir+name+'.bmp'):\r\n",
    "        im=Image.open(mask_dir+name+'.bmp')\r\n",
    "        im=(np.array(im)/255).astype('uint8')\r\n",
    "        im = Image.fromarray(im)\r\n",
    "        im.save(mask_dir2+name+'.png')\r\n",
    "        ori_train_list.append(img_dir+name+'.jpg '+mask_dir2+name+'.png'+'\\n')"
   ]
  },
  {
   "cell_type": "code",
   "execution_count": 6,
   "metadata": {
    "collapsed": false
   },
   "outputs": [],
   "source": [
    "cut_percent=0.2\r\n",
    "cut_point=int(cut_percent*len(ori_train_list))\r\n",
    "random.shuffle(ori_train_list)\r\n",
    "\r\n",
    "with open('det2_train.txt','w') as f:\r\n",
    "    for item in ori_train_list[cut_point:]:\r\n",
    "        f.write(item)\r\n",
    "\r\n",
    "with open('det2_eval.txt','w') as f:\r\n",
    "    for item in ori_train_list[:cut_point]:\r\n",
    "        f.write(item)"
   ]
  },
  {
   "cell_type": "markdown",
   "metadata": {
    "collapsed": false
   },
   "source": [
    "### 训练"
   ]
  },
  {
   "cell_type": "code",
   "execution_count": 7,
   "metadata": {
    "collapsed": false
   },
   "outputs": [],
   "source": [
    "train_transforms = [\r\n",
    "    #T.RandomHorizontalFlip(),# 水平翻转\r\n",
    "    #T.RandomVerticalFlip(),# 垂直翻转\r\n",
    "    #T.RandomDistort(0.4),# 随机扭曲\r\n",
    "    #T.RandomBlur(0.3),# 高斯模糊\r\n",
    "    #T.RandomScaleAspect(min_scale=0.5,aspect_ratio=0.5),# 随机缩放\r\n",
    "    T.Resize(target_size=(512,512)),\r\n",
    "    T.Normalize()  # 图像标准化\r\n",
    "]\r\n",
    "\r\n",
    "val_transforms = [\r\n",
    "    T.Resize(target_size=(512,512)),\r\n",
    "    T.Normalize()\r\n",
    "]"
   ]
  },
  {
   "cell_type": "code",
   "execution_count": 8,
   "metadata": {
    "collapsed": false
   },
   "outputs": [],
   "source": [
    "# 构建训练集\r\n",
    "train_dataset = Dataset(\r\n",
    "    dataset_root='/home/aistudio',\r\n",
    "    train_path='/home/aistudio/det2_train.txt',\r\n",
    "    transforms=train_transforms,\r\n",
    "    num_classes=2,\r\n",
    "    mode='train'\r\n",
    ")\r\n",
    "#验证集\r\n",
    "val_dataset = Dataset(\r\n",
    "    dataset_root='/home/aistudio',\r\n",
    "    val_path='/home/aistudio/det2_eval.txt',\r\n",
    "    transforms=val_transforms,\r\n",
    "    num_classes=2,\r\n",
    "    mode='val'\r\n",
    ")"
   ]
  },
  {
   "cell_type": "code",
   "execution_count": 9,
   "metadata": {
    "collapsed": false
   },
   "outputs": [],
   "source": [
    "model = paddleseg.models.UNet(num_classes=2)"
   ]
  },
  {
   "cell_type": "code",
   "execution_count": 10,
   "metadata": {
    "collapsed": false
   },
   "outputs": [],
   "source": [
    "base_lr =0.001\r\n",
    "iters = 100\r\n",
    "\r\n",
    "#自动调整学习率\r\n",
    "lr =paddle.optimizer.lr.CosineAnnealingDecay(base_lr, T_max=(iters // 3), last_epoch=0.5)\r\n",
    "u_optimizer = paddle.optimizer.Adam(lr, parameters=model.parameters())\r\n",
    "\r\n",
    "mixtureLosses = [CrossEntropyLoss(),DiceLoss() ]\r\n",
    "mixtureCoef = [0.1,0.9]\r\n",
    "losses = {}\r\n",
    "losses['types'] = [MixedLoss(mixtureLosses, mixtureCoef)]\r\n",
    "losses['coef'] = [1]"
   ]
  },
  {
   "cell_type": "code",
   "execution_count": 11,
   "metadata": {
    "collapsed": false
   },
   "outputs": [
    {
     "name": "stderr",
     "output_type": "stream",
     "text": [
      "/opt/conda/envs/python35-paddle120-env/lib/python3.7/site-packages/paddle/nn/layer/norm.py:641: UserWarning: When training, we now always track global mean and variance.\n",
      "  \"When training, we now always track global mean and variance.\")\n",
      "/opt/conda/envs/python35-paddle120-env/lib/python3.7/site-packages/paddle/fluid/dygraph/math_op_patch.py:239: UserWarning: The dtype of left and right variables are not the same, left dtype is paddle.float32, but right dtype is paddle.int64, the right dtype will convert to paddle.float32\n",
      "  format(lhs_dtype, rhs_dtype, lhs_dtype))\n",
      "/opt/conda/envs/python35-paddle120-env/lib/python3.7/site-packages/paddle/fluid/dygraph/math_op_patch.py:239: UserWarning: The dtype of left and right variables are not the same, left dtype is paddle.float32, but right dtype is paddle.bool, the right dtype will convert to paddle.float32\n",
      "  format(lhs_dtype, rhs_dtype, lhs_dtype))\n"
     ]
    },
    {
     "name": "stdout",
     "output_type": "stream",
     "text": [
      "2021-09-25 20:44:50 [INFO]\t[TRAIN] epoch: 20, iter: 20/100, loss: 0.2679, lr: 0.000314, batch_cost: 2.0074, reader_cost: 1.51707, ips: 3.9853 samples/sec | ETA 00:02:40\n",
      "2021-09-25 20:44:50 [INFO]\tStart evaluating (total_samples: 3, total_iters: 3)...\n"
     ]
    },
    {
     "name": "stderr",
     "output_type": "stream",
     "text": [
      "/opt/conda/envs/python35-paddle120-env/lib/python3.7/site-packages/paddle/fluid/dygraph/math_op_patch.py:239: UserWarning: The dtype of left and right variables are not the same, left dtype is paddle.int32, but right dtype is paddle.bool, the right dtype will convert to paddle.int32\n",
      "  format(lhs_dtype, rhs_dtype, lhs_dtype))\n",
      "/opt/conda/envs/python35-paddle120-env/lib/python3.7/site-packages/paddle/fluid/dygraph/math_op_patch.py:239: UserWarning: The dtype of left and right variables are not the same, left dtype is paddle.int64, but right dtype is paddle.bool, the right dtype will convert to paddle.int64\n",
      "  format(lhs_dtype, rhs_dtype, lhs_dtype))\n",
      "3/3 [==============================] - 1s 209ms/step - batch_cost: 0.2080 - reader cost: 0.18\n"
     ]
    },
    {
     "name": "stdout",
     "output_type": "stream",
     "text": [
      "2021-09-25 20:44:51 [INFO]\t[EVAL] #Images: 3 mIoU: 0.6211 Acc: 0.7716 Kappa: 0.5430 \n",
      "2021-09-25 20:44:51 [INFO]\t[EVAL] Class IoU: \n",
      "[0.6726 0.5696]\n",
      "2021-09-25 20:44:51 [INFO]\t[EVAL] Class Acc: \n",
      "[0.704  0.9066]\n",
      "2021-09-25 20:44:52 [INFO]\t[EVAL] The model with the best validation mIoU (0.6211) was saved at iter 20.\n",
      "2021-09-25 20:45:32 [INFO]\t[TRAIN] epoch: 40, iter: 40/100, loss: 0.1976, lr: 0.000122, batch_cost: 2.0017, reader_cost: 1.51195, ips: 3.9966 samples/sec | ETA 00:02:00\n",
      "2021-09-25 20:45:32 [INFO]\tStart evaluating (total_samples: 3, total_iters: 3)...\n"
     ]
    },
    {
     "name": "stderr",
     "output_type": "stream",
     "text": [
      "3/3 [==============================] - 1s 212ms/step - batch_cost: 0.2107 - reader cost: 0.19\n"
     ]
    },
    {
     "name": "stdout",
     "output_type": "stream",
     "text": [
      "2021-09-25 20:45:33 [INFO]\t[EVAL] #Images: 3 mIoU: 0.6468 Acc: 0.7920 Kappa: 0.5838 \n",
      "2021-09-25 20:45:33 [INFO]\t[EVAL] Class IoU: \n",
      "[0.7025 0.591 ]\n",
      "2021-09-25 20:45:33 [INFO]\t[EVAL] Class Acc: \n",
      "[0.7117 0.9708]\n",
      "2021-09-25 20:45:33 [INFO]\t[EVAL] The model with the best validation mIoU (0.6468) was saved at iter 40.\n",
      "2021-09-25 20:46:14 [INFO]\t[TRAIN] epoch: 60, iter: 60/100, loss: 0.1677, lr: 0.000934, batch_cost: 2.0160, reader_cost: 1.52678, ips: 3.9682 samples/sec | ETA 00:01:20\n",
      "2021-09-25 20:46:14 [INFO]\tStart evaluating (total_samples: 3, total_iters: 3)...\n"
     ]
    },
    {
     "name": "stderr",
     "output_type": "stream",
     "text": [
      "3/3 [==============================] - 1s 209ms/step - batch_cost: 0.2080 - reader cost: 0.18\n"
     ]
    },
    {
     "name": "stdout",
     "output_type": "stream",
     "text": [
      "2021-09-25 20:46:14 [INFO]\t[EVAL] #Images: 3 mIoU: 0.5939 Acc: 0.7469 Kappa: 0.4936 \n",
      "2021-09-25 20:46:14 [INFO]\t[EVAL] Class IoU: \n",
      "[0.6231 0.5647]\n",
      "2021-09-25 20:46:14 [INFO]\t[EVAL] Class Acc: \n",
      "[0.7096 0.8003]\n",
      "2021-09-25 20:46:15 [INFO]\t[EVAL] The model with the best validation mIoU (0.6468) was saved at iter 40.\n",
      "2021-09-25 20:46:55 [INFO]\t[TRAIN] epoch: 80, iter: 80/100, loss: 0.1859, lr: 0.000595, batch_cost: 2.0260, reader_cost: 1.53538, ips: 3.9487 samples/sec | ETA 00:00:40\n",
      "2021-09-25 20:46:55 [INFO]\tStart evaluating (total_samples: 3, total_iters: 3)...\n"
     ]
    },
    {
     "name": "stderr",
     "output_type": "stream",
     "text": [
      "3/3 [==============================] - 1s 211ms/step - batch_cost: 0.2101 - reader cost: 0.19\n"
     ]
    },
    {
     "name": "stdout",
     "output_type": "stream",
     "text": [
      "2021-09-25 20:46:56 [INFO]\t[EVAL] #Images: 3 mIoU: 0.6044 Acc: 0.7557 Kappa: 0.5113 \n",
      "2021-09-25 20:46:56 [INFO]\t[EVAL] Class IoU: \n",
      "[0.6386 0.5701]\n",
      "2021-09-25 20:46:56 [INFO]\t[EVAL] Class Acc: \n",
      "[0.7108 0.8252]\n",
      "2021-09-25 20:46:57 [INFO]\t[EVAL] The model with the best validation mIoU (0.6468) was saved at iter 40.\n",
      "2021-09-25 20:47:37 [INFO]\t[TRAIN] epoch: 100, iter: 100/100, loss: 0.1575, lr: 0.000005, batch_cost: 2.0311, reader_cost: 1.54091, ips: 3.9387 samples/sec | ETA 00:00:00\n",
      "2021-09-25 20:47:37 [INFO]\tStart evaluating (total_samples: 3, total_iters: 3)...\n"
     ]
    },
    {
     "name": "stderr",
     "output_type": "stream",
     "text": [
      "3/3 [==============================] - 1s 206ms/step - batch_cost: 0.2048 - reader cost: 0.18\n"
     ]
    },
    {
     "name": "stdout",
     "output_type": "stream",
     "text": [
      "2021-09-25 20:47:38 [INFO]\t[EVAL] #Images: 3 mIoU: 0.6517 Acc: 0.7904 Kappa: 0.5808 \n",
      "2021-09-25 20:47:38 [INFO]\t[EVAL] Class IoU: \n",
      "[0.6766 0.6268]\n",
      "2021-09-25 20:47:38 [INFO]\t[EVAL] Class Acc: \n",
      "[0.7481 0.8505]\n",
      "2021-09-25 20:47:39 [INFO]\t[EVAL] The model with the best validation mIoU (0.6517) was saved at iter 100.\n",
      "<class 'paddle.nn.layer.conv.Conv2D'>'s flops has been counted\n",
      "<class 'paddle.nn.layer.norm.BatchNorm2D'>'s flops has been counted\n",
      "Cannot find suitable count function for <class 'paddle.nn.layer.pooling.MaxPool2D'>. Treat it as zero FLOPs.\n",
      "Total Flops: -1150812160     Total Params: 13404354\n"
     ]
    },
    {
     "name": "stderr",
     "output_type": "stream",
     "text": [
      "/opt/conda/envs/python35-paddle120-env/lib/python3.7/site-packages/paddle/tensor/creation.py:125: DeprecationWarning: `np.object` is a deprecated alias for the builtin `object`. To silence this warning, use `object` by itself. Doing this will not modify any behavior and is safe. \n",
      "Deprecated in NumPy 1.20; for more details and guidance: https://numpy.org/devdocs/release/1.20.0-notes.html#deprecations\n",
      "  if data.dtype == np.object:\n"
     ]
    }
   ],
   "source": [
    "#进行训练\r\n",
    "train(\r\n",
    "    model = model,\r\n",
    "    train_dataset=train_dataset,\r\n",
    "    val_dataset=val_dataset,\r\n",
    "    optimizer=u_optimizer,\r\n",
    "    save_dir='output/Det_UNet',\r\n",
    "    iters=iters,  \r\n",
    "    batch_size=8, \r\n",
    "    save_interval=20,\r\n",
    "    log_iters=20,\r\n",
    "    num_workers=2,\r\n",
    "    losses=losses,\r\n",
    "    # losses=CrossEntropyLoss(),\r\n",
    "    use_vdl=False\r\n",
    "    )"
   ]
  },
  {
   "cell_type": "markdown",
   "metadata": {
    "collapsed": false
   },
   "source": [
    "### 进行预测，保存结果到指定目录"
   ]
  },
  {
   "cell_type": "code",
   "execution_count": 12,
   "metadata": {
    "collapsed": false
   },
   "outputs": [
    {
     "name": "stdout",
     "output_type": "stream",
     "text": [
      "2021-09-25 20:50:21 [INFO]\tLoading pretrained model from output/Det_UNet/best_model/model.pdparams\n",
      "2021-09-25 20:50:21 [INFO]\tThere are 112/112 variables loaded into UNet.\n",
      "2021-09-25 20:50:21 [INFO]\tStart to predict...\n"
     ]
    },
    {
     "name": "stderr",
     "output_type": "stream",
     "text": [
      "246/400 [=================>............] - ETA: 4\n",
      "400/400 [==============================] - 121s 303ms/st\n"
     ]
    }
   ],
   "source": [
    "test_list=[\"work/常规赛：PALM病理性近视病灶检测与分割/PALM-Testing400-Images/\"+item for item in os.listdir(\"work/常规赛：PALM病理性近视病灶检测与分割/PALM-Testing400-Images\")]\r\n",
    "\r\n",
    "transforms = T.Compose([\r\n",
    "    T.Resize(target_size=(512, 512)),\r\n",
    "    T.Normalize()\r\n",
    "])\r\n",
    "\r\n",
    "model = paddleseg.models.UNet(num_classes=2)\r\n",
    "\r\n",
    "predict(\r\n",
    "    model,\r\n",
    "    #换自己保存的模型文件\r\n",
    "    model_path = 'output/Det_UNet/best_model/model.pdparams',\r\n",
    "    transforms=transforms,\r\n",
    "    image_list=test_list,\r\n",
    "    save_dir='det_result',)"
   ]
  },
  {
   "cell_type": "code",
   "execution_count": 14,
   "metadata": {
    "collapsed": false
   },
   "outputs": [
    {
     "name": "stdout",
     "output_type": "stream",
     "text": [
      "mkdir: cannot create directory ‘Lesion_Segmentation’: File exists\n",
      "mkdir: cannot create directory ‘Lesion_Segmentation/Detachment/’: File exists\n"
     ]
    }
   ],
   "source": [
    "! mkdir Lesion_Segmentation\r\n",
    "! mkdir Lesion_Segmentation/Detachment/\r\n",
    "for img in os.listdir('det_result/pseudo_color_prediction'):\r\n",
    "    img_dir='det_result/pseudo_color_prediction/'+img\r\n",
    "    im=Image.open(img_dir)\r\n",
    "    im=Image.fromarray(np.array(im)*255)\r\n",
    "    im.save('Lesion_Segmentation/Detachment/'+img)"
   ]
  },
  {
   "cell_type": "markdown",
   "metadata": {
    "collapsed": false
   },
   "source": [
    "## 打包结果"
   ]
  },
  {
   "cell_type": "code",
   "execution_count": 15,
   "metadata": {
    "collapsed": false
   },
   "outputs": [],
   "source": [
    "! zip -q -r result.zip Lesion_Segmentation"
   ]
  },
  {
   "cell_type": "markdown",
   "metadata": {
    "collapsed": false
   },
   "source": [
    "# 总结\n",
    "\n",
    "如果直接训练分割模型，模型几乎将所有的样本都判定为需要分割，从而使得最终评价的分类得分(F1)极差，因此可以考虑加入分类模型，对分类模型的结果中需要分割的再进行分割。根据我在十月份的测试，这种先分类再分割的方法可以显著提高评价中F1指标的分数。\n",
    "![](https://ai-studio-static-online.cdn.bcebos.com/2066e8fba6014a388aa8b702d044ea90cf014012e3874df4b58232d0c83ac22a)\n",
    "\n",
    "但是这种方法同样会由于部分正例没有被分割到从而降低Dice的分数，并不会使得整体得分大幅度提高。但是如果想要让整体评价提高，那么每一项都有必要取得一个比较好的得分的！所以在基本的分类基础上做亿点点的调优操作(包含了写出了bug误打误撞等操作)之后是可以达到一个比较令人满意的分数的(比如0.8+的分数)！感兴趣的朋友们可以尝试一下这种**先分类再分割**的框架。最后附上一个因为bug产生的0.8+的结果~\n",
    "![](https://ai-studio-static-online.cdn.bcebos.com/8dc33367fb4b4ae387ce030adf35bba623dc60ceeb194a4496e6b07d93969d9e)\n"
   ]
  },
  {
   "cell_type": "markdown",
   "metadata": {
    "collapsed": false
   },
   "source": [
    "请点击[此处](https://ai.baidu.com/docs#/AIStudio_Project_Notebook/a38e5576)查看本环境基本用法.  <br>\n",
    "Please click [here ](https://ai.baidu.com/docs#/AIStudio_Project_Notebook/a38e5576) for more detailed instructions. "
   ]
  }
 ],
 "metadata": {
  "kernelspec": {
   "display_name": "Python 3",
   "language": "python",
   "name": "py35-paddle1.2.0"
  },
  "language_info": {
   "codemirror_mode": {
    "name": "ipython",
    "version": 3
   },
   "file_extension": ".py",
   "mimetype": "text/x-python",
   "name": "python",
   "nbconvert_exporter": "python",
   "pygments_lexer": "ipython3",
   "version": "3.7.4"
  }
 },
 "nbformat": 4,
 "nbformat_minor": 1
}
